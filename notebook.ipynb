{
 "cells": [
  {
   "cell_type": "markdown",
   "metadata": {},
   "source": [
    "# Installation des modules"
   ]
  },
  {
   "cell_type": "code",
   "execution_count": null,
   "metadata": {},
   "outputs": [],
   "source": [
    "#!pip install -r requirements.txt"
   ]
  },
  {
   "cell_type": "markdown",
   "metadata": {},
   "source": [
    "# To do list:\n",
    "- Other normalization methods\n",
    "- Users will need to be able to choose the normalization method they want to use.\n",
    "- Prediction\n",
    "- Cluster statistics\n",
    "- DBSCAN\n"
   ]
  },
  {
   "cell_type": "markdown",
   "metadata": {},
   "source": [
    "Imports"
   ]
  },
  {
   "cell_type": "code",
   "execution_count": 1,
   "metadata": {},
   "outputs": [],
   "source": [
    "import pandas as pd\n",
    "from sklearn.preprocessing import MinMaxScaler,StandardScaler\n",
    "from sklearn.model_selection import train_test_split\n",
    "from sklearn.cluster import KMeans\n",
    "import matplotlib.pyplot as plt\n",
    "from sklearn.metrics import silhouette_score\n",
    "from sklearn.impute import SimpleImputer, KNNImputer\n",
    "from sklearn.cluster import DBSCAN\n"
   ]
  },
  {
   "cell_type": "code",
   "execution_count": 2,
   "metadata": {},
   "outputs": [],
   "source": [
    "file_name =\"test.csv\"\n",
    "df =  pd.read_csv(file_name)\n",
    "#df.head()\n",
    "numerical_columns = [i for i in df.columns if df[i].dtype == \"int64\" or df[i].dtype == \"float64\"]\n"
   ]
  },
  {
   "cell_type": "markdown",
   "metadata": {},
   "source": [
    "# Part I: Initial Data Exploration"
   ]
  },
  {
   "cell_type": "markdown",
   "metadata": {},
   "source": [
    "<span style='color:Red'>Ajouter un truc pour gérer les variables catégorielles</span>"
   ]
  },
  {
   "cell_type": "code",
   "execution_count": null,
   "metadata": {},
   "outputs": [],
   "source": [
    "for i in df.columns:\n",
    "    print(f'{i} is a ',df[f'{i}'].dtype)"
   ]
  },
  {
   "cell_type": "code",
   "execution_count": null,
   "metadata": {},
   "outputs": [],
   "source": [
    "count_nan=df.isna().sum()\n",
    "print(f\"Il y'a {len(df.columns)} colonnes ({[i for i in df.columns]}) et {len(df)} lignes dans le fichier {file_name},\\nLes NAN par colonnes sont: \\n{count_nan}\")\n",
    "print ('Voilà la description plus précise des différentes colonnes du fichier :')\n",
    "df.describe()"
   ]
  },
  {
   "cell_type": "markdown",
   "metadata": {},
   "source": [
    "# Part II: Data Pre-processing and Cleaning"
   ]
  },
  {
   "cell_type": "markdown",
   "metadata": {},
   "source": [
    "- Deleting columns with missing values: "
   ]
  },
  {
   "cell_type": "code",
   "execution_count": null,
   "metadata": {},
   "outputs": [],
   "source": [
    "def nan_to_remove_columns(df):\n",
    "    count_nan=df.isna().sum()\n",
    "    delete_c=False\n",
    "    if delete_c:\n",
    "        for i in df.columns:\n",
    "            if count_nan[i] != 0:\n",
    "                df.drop([i], axis=1, inplace=True)\n",
    "    return df"
   ]
  },
  {
   "cell_type": "markdown",
   "metadata": {},
   "source": [
    "- Remplacer les nan avec la moyenne"
   ]
  },
  {
   "cell_type": "code",
   "execution_count": null,
   "metadata": {},
   "outputs": [],
   "source": [
    "def nan_to_mean(df):\n",
    "    for i in df.columns:\n",
    "        if df[i].dtype == \"int64\" or df[i].dtype == \"float64\":\n",
    "            df[i].fillna(df[i].mean(), inplace=True)\n",
    "    return df"
   ]
  },
  {
   "cell_type": "markdown",
   "metadata": {},
   "source": [
    "- Remplacer les nan avec le mode"
   ]
  },
  {
   "cell_type": "code",
   "execution_count": null,
   "metadata": {},
   "outputs": [],
   "source": [
    "def nan_to_mode(df):\n",
    "    for i in df.columns:\n",
    "        if df[i].dtype == \"object\":\n",
    "            df[i].fillna(df[i].mode()[0], inplace=True)\n",
    "    return df"
   ]
  },
  {
   "cell_type": "markdown",
   "metadata": {},
   "source": [
    "- Remplacer les nan avec la mediane"
   ]
  },
  {
   "cell_type": "code",
   "execution_count": null,
   "metadata": {},
   "outputs": [],
   "source": [
    "def nan_to_med(df):\n",
    "    for i in df.columns:\n",
    "        if df[i].dtype == \"int64\" or df[i].dtype == \"float64\":\n",
    "            df[i].fillna(df[i].median(), inplace=True)\n",
    "    return df"
   ]
  },
  {
   "cell_type": "markdown",
   "metadata": {},
   "source": [
    "- Supprimer les missing values:"
   ]
  },
  {
   "cell_type": "code",
   "execution_count": 4,
   "metadata": {},
   "outputs": [],
   "source": [
    "def remove_nan(df):\n",
    "    df = df.dropna()\n",
    "    return df"
   ]
  },
  {
   "cell_type": "markdown",
   "metadata": {},
   "source": [
    "- Remplacer les nan avec Knn imputer"
   ]
  },
  {
   "cell_type": "code",
   "execution_count": null,
   "metadata": {},
   "outputs": [],
   "source": [
    "def nan_to_knn_imputer(df,n_neighbors=3):\n",
    "    knn_imputer = KNNImputer(n_neighbors=n_neighbors)\n",
    "    df[[i for i in numerical_columns]] = knn_imputer.fit_transform(df[[i for i in numerical_columns]])\n",
    "    print(\"\\nDataFrame after KNN Imputation:\")\n",
    "    print(df.isna().sum())\n",
    "    return df\n",
    "        "
   ]
  },
  {
   "cell_type": "markdown",
   "metadata": {},
   "source": [
    "# Normalisation\n",
    "* <span style='color:Red'>Other normalization methods</span>"
   ]
  },
  {
   "cell_type": "code",
   "execution_count": null,
   "metadata": {},
   "outputs": [],
   "source": [
    "scaler = StandardScaler().fit(df[numerical_columns])\n",
    "df[numerical_columns] = scaler.transform(df[numerical_columns])\n",
    "df"
   ]
  },
  {
   "cell_type": "code",
   "execution_count": 3,
   "metadata": {},
   "outputs": [],
   "source": [
    "def min_max_normalization(df):\n",
    "    scaler =MinMaxScaler()\n",
    "    numerical_columns = []\n",
    "    for i in df.columns:\n",
    "        if df[i].dtype == \"int64\" or df[i].dtype == float:\n",
    "            numerical_columns.append(i)\n",
    "    df[numerical_columns] = scaler.fit_transform(df[numerical_columns])\n",
    "    return df"
   ]
  },
  {
   "cell_type": "code",
   "execution_count": null,
   "metadata": {},
   "outputs": [],
   "source": [
    "def Z_score(df):\n",
    "    scaler = StandardScaler()\n",
    "    numerical_columns = df.select_dtypes(include=['int64', 'float64']).columns\n",
    "    df[numerical_columns] = scaler.fit_transform(df[numerical_columns])\n",
    "    print(\"\\nDataFrame after Z-score standardization:\")\n",
    "    print(df)\n",
    "    return df"
   ]
  },
  {
   "cell_type": "markdown",
   "metadata": {},
   "source": [
    "# Part III: Visualization of the cleaned data"
   ]
  },
  {
   "cell_type": "code",
   "execution_count": null,
   "metadata": {},
   "outputs": [],
   "source": [
    "df.hist(bins=10,figsize=(6, 6), grid=True)\n",
    "plt.suptitle('Histograms of Numerical Columns in DataFrame', fontsize=16)\n",
    "plt.show()"
   ]
  },
  {
   "cell_type": "code",
   "execution_count": null,
   "metadata": {},
   "outputs": [],
   "source": [
    "df.boxplot(column=numerical_columns, figsize=(6, 6))\n",
    "plt.suptitle('Box Plots of Numerical Columns in DataFrame', fontsize=16)\n",
    "plt.show()"
   ]
  },
  {
   "cell_type": "markdown",
   "metadata": {},
   "source": [
    "# Part IV: Clustering or prediction"
   ]
  },
  {
   "cell_type": "markdown",
   "metadata": {},
   "source": [
    "## Clustering"
   ]
  },
  {
   "cell_type": "markdown",
   "metadata": {},
   "source": [
    "- Elbow Method For Optimal k"
   ]
  },
  {
   "cell_type": "code",
   "execution_count": null,
   "metadata": {},
   "outputs": [],
   "source": [
    "k_values = range(1, 11)\n",
    "wcss = []\n",
    "\n",
    "for k in k_values:\n",
    "    kmeans = KMeans(n_clusters=k, random_state=42)\n",
    "    kmeans.fit(df[numerical_columns].values.reshape(-1, 1))\n",
    "    wcss.append(kmeans.inertia_)\n",
    "\n",
    "plt.figure(figsize=(3, 3))\n",
    "plt.plot(k_values, wcss, marker='o')\n",
    "plt.title('Elbow Method For Optimal k')\n",
    "plt.xlabel('Number of clusters')\n",
    "plt.ylabel('WCSS')\n",
    "plt.xticks(k_values)\n",
    "plt.show()"
   ]
  },
  {
   "cell_type": "markdown",
   "metadata": {},
   "source": [
    "- Kmeans"
   ]
  },
  {
   "cell_type": "code",
   "execution_count": null,
   "metadata": {},
   "outputs": [],
   "source": [
    "kmeans = KMeans(n_clusters=optimal_k, random_state=42)\n",
    "df['Cluster'] = kmeans.fit_predict(df[numerical_columns])"
   ]
  },
  {
   "cell_type": "markdown",
   "metadata": {},
   "source": [
    "DBscan (you MUST normalise the data before)\n",
    "\n",
    "<span style='color:Red'> We must find how get the optimal esp (esp represente the distance between the points)</span>"
   ]
  },
  {
   "cell_type": "code",
   "execution_count": 10,
   "metadata": {},
   "outputs": [
    {
     "name": "stderr",
     "output_type": "stream",
     "text": [
      "C:\\Users\\mopi7\\AppData\\Local\\Temp\\ipykernel_16032\\457192083.py:7: SettingWithCopyWarning: \n",
      "A value is trying to be set on a copy of a slice from a DataFrame.\n",
      "Try using .loc[row_indexer,col_indexer] = value instead\n",
      "\n",
      "See the caveats in the documentation: https://pandas.pydata.org/pandas-docs/stable/user_guide/indexing.html#returning-a-view-versus-a-copy\n",
      "  df[numerical_columns] = scaler.fit_transform(df[numerical_columns])\n"
     ]
    }
   ],
   "source": [
    "df[numerical_columns] = min_max_normalization(df[numerical_columns])\n",
    "df = remove_nan(df)\n",
    "clustering = DBSCAN(eps=0.3, min_samples=2).fit(df[numerical_columns])\n",
    "clustering.labels_\n",
    "df['Cluster']=clustering.labels_"
   ]
  },
  {
   "cell_type": "markdown",
   "metadata": {},
   "source": [
    "## <span style='color:Red'>Prediction</span>"
   ]
  },
  {
   "cell_type": "markdown",
   "metadata": {},
   "source": [
    "# Part V: Learning Evaluation\n"
   ]
  },
  {
   "cell_type": "markdown",
   "metadata": {},
   "source": [
    "2D"
   ]
  },
  {
   "cell_type": "code",
   "execution_count": 11,
   "metadata": {},
   "outputs": [
    {
     "data": {
      "image/png": "[encoded data removed]",
      "text/plain": [
       "<Figure size 600x300 with 2 Axes>"
      ]
     },
     "metadata": {},
     "output_type": "display_data"
    }
   ],
   "source": [
    "chosen_params = ['A','B']\n",
    "optimal_k = 3\n",
    "plt.figure(figsize=(6, 3))\n",
    "plt.scatter(df[chosen_params[0]], df[chosen_params[1]], c=df['Cluster'], cmap='viridis', marker='o')\n",
    "plt.title('KMeans Clustering')\n",
    "plt.xlabel('A')\n",
    "plt.ylabel('B')\n",
    "plt.colorbar(label='Cluster')\n",
    "plt.show()"
   ]
  },
  {
   "cell_type": "markdown",
   "metadata": {},
   "source": [
    "3D"
   ]
  },
  {
   "cell_type": "code",
   "execution_count": null,
   "metadata": {},
   "outputs": [],
   "source": [
    "chosen_params = ['A','B','C']\n",
    "kmeans = KMeans(n_clusters=optimal_k, random_state=42)\n",
    "df['Cluster'] = kmeans.fit_predict(df[numerical_columns])\n",
    "fig = plt.figure(figsize=(10, 7))\n",
    "ax = fig.add_subplot(111, projection='3d')\n",
    "scatter = ax.scatter(df[chosen_params[0]], df[chosen_params[1]], df[chosen_params[2]], \n",
    "                     c=df['Cluster'], cmap='viridis', marker='o')\n",
    "ax.set_title('KMeans Clustering')\n",
    "ax.set_xlabel(chosen_params[0])\n",
    "ax.set_ylabel(chosen_params[1])\n",
    "ax.set_zlabel(chosen_params[2])\n",
    "cbar = plt.colorbar(scatter, ax=ax)\n",
    "cbar.set_label('Cluster')\n",
    "\n",
    "plt.show()"
   ]
  },
  {
   "cell_type": "markdown",
   "metadata": {},
   "source": [
    "<span style='color:Red'>Cluster statistics: </span>\n",
    "\n",
    "<span style='color:Red'>Mode prediction</span>"
   ]
  }
 ],
 "metadata": {
  "kernelspec": {
   "display_name": "Python 3",
   "language": "python",
   "name": "python3"
  },
  "language_info": {
   "codemirror_mode": {
    "name": "ipython",
    "version": 3
   },
   "file_extension": ".py",
   "mimetype": "text/x-python",
   "name": "python",
   "nbconvert_exporter": "python",
   "pygments_lexer": "ipython3",
   "version": "3.11.9"
  }
 },
 "nbformat": 4,
 "nbformat_minor": 2
}
